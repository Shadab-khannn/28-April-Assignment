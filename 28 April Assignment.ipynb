{
 "cells": [
  {
   "cell_type": "code",
   "execution_count": null,
   "id": "b39e8e95-e39c-4521-babe-e18c676b37e8",
   "metadata": {},
   "outputs": [],
   "source": [
    "Q1. What is hierarchical clustering, and how is it different from other clustering techniques?"
   ]
  },
  {
   "cell_type": "markdown",
   "id": "b28bfdbe-e613-42e1-a521-604ef1befac4",
   "metadata": {},
   "source": [
    "ANS -"
   ]
  },
  {
   "cell_type": "code",
   "execution_count": null,
   "id": "082aeafd-9dea-468d-b903-bbfb1fb34d64",
   "metadata": {},
   "outputs": [],
   "source": [
    "Hierarchical clustering is a type of clustering algorithm that builds a hierarchy of clusters.\n",
    "It is different from other clustering techniques in that it does not require the number of clusters to be specified in advance. \n",
    "Instead, it creates a tree-like structure of nested clusters, which can be visualized as a dendrogram.\n",
    "\n",
    "In hierarchical clustering, the data points are grouped together based on their similarity. \n",
    "The similarity between two data points is measured using a distance metric. \n",
    "The algorithm starts with each data point in its own cluster and then iteratively merges the two closest clusters together until all\n",
    "data points belong to a single cluster."
   ]
  },
  {
   "cell_type": "code",
   "execution_count": null,
   "id": "ff0e6994-1b90-4229-9100-9f01beaa86cc",
   "metadata": {},
   "outputs": [],
   "source": []
  },
  {
   "cell_type": "code",
   "execution_count": null,
   "id": "5d3c3e9a-b8ae-4fd0-bd6a-e95ddd719731",
   "metadata": {},
   "outputs": [],
   "source": [
    "Q2. What are the two main types of hierarchical clustering algorithms? Describe each in brief."
   ]
  },
  {
   "cell_type": "markdown",
   "id": "12eafadd-9361-41bf-94b0-a58f6932df34",
   "metadata": {},
   "source": [
    "ANS -"
   ]
  },
  {
   "cell_type": "code",
   "execution_count": null,
   "id": "36ae38b6-c707-404e-8f5e-46f7fca941fe",
   "metadata": {},
   "outputs": [],
   "source": [
    "The two main types of hierarchical clustering algorithms are agglomerative and divisive.\n",
    "\n",
    "Agglomerative hierarchical clustering is a bottom-up approach, where the algorithm starts with the individual data points as separate \n",
    "clusters and then iteratively merges them until a single cluster containing all the points is formed. At each iteration, \n",
    "the two closest clusters are merged together based on some linkage criterion.\n",
    "\n",
    "Divisive hierarchical clustering is a top-down approach, where the algorithm starts with a single cluster containing all the data points\n",
    "and then recursively splits it into smaller clusters until each point is in its own cluster."
   ]
  },
  {
   "cell_type": "code",
   "execution_count": null,
   "id": "7b9ae2e5-36ed-442a-857f-8866e3381708",
   "metadata": {},
   "outputs": [],
   "source": []
  },
  {
   "cell_type": "code",
   "execution_count": null,
   "id": "51236faa-c5b6-4367-bbeb-2d532d02f6cc",
   "metadata": {},
   "outputs": [],
   "source": [
    "Q3. How do you determine the distance between two clusters in hierarchical clustering, and what are the\n",
    "common distance metrics used?"
   ]
  },
  {
   "cell_type": "markdown",
   "id": "25e6e0fd-61b5-4eea-96b2-708e6ce03cf0",
   "metadata": {},
   "source": [
    "ANS -"
   ]
  },
  {
   "cell_type": "code",
   "execution_count": null,
   "id": "5fbff002-a1cb-4928-b03f-8826b95cda2f",
   "metadata": {},
   "outputs": [],
   "source": [
    "The distance between two clusters in hierarchical clustering is determined by a distance metric. The most common distance metrics used are:\n",
    "\n",
    "1.Euclidean distance\n",
    "2.Manhattan distance\n",
    "3.Minkowski distance\n",
    "4.Cosine similarity\n",
    "\n",
    "Euclidean distance is the most commonly used distance metric in hierarchical clustering.\n",
    "It is defined as the square root of the sum of the squared differences between the coordinates of two points.\n",
    "\n",
    "Manhattan distance is another commonly used distance metric.\n",
    "It is defined as the sum of the absolute differences between the coordinates of two points.\n",
    "\n",
    "Minkowski distance is a generalization of Euclidean and Manhattan distances. \n",
    "It is defined as the nth root of the sum of the nth powers of the differences between the coordinates of two points.\n",
    "\n",
    "Cosine similarity is a measure of similarity between two non-zero vectors of an inner product space that measures the cosine of the\n",
    "angle between them."
   ]
  },
  {
   "cell_type": "code",
   "execution_count": null,
   "id": "f3de0266-90d0-4900-bc6d-e52c020a99ab",
   "metadata": {},
   "outputs": [],
   "source": []
  },
  {
   "cell_type": "code",
   "execution_count": null,
   "id": "4d7ce67c-b031-45c9-8e79-8ce934da8908",
   "metadata": {},
   "outputs": [],
   "source": [
    "Q4. How do you determine the optimal number of clusters in hierarchical clustering, and what are some\n",
    "common methods used for this purpose?"
   ]
  },
  {
   "cell_type": "markdown",
   "id": "6dcc20e4-da87-4bab-8656-e383a5558502",
   "metadata": {},
   "source": [
    "ANS -"
   ]
  },
  {
   "cell_type": "code",
   "execution_count": null,
   "id": "af4358dd-36e9-41f2-93da-acdade2c9bcb",
   "metadata": {},
   "outputs": [],
   "source": [
    "Determining the optimal number of clusters in hierarchical clustering is a challenging problem.\n",
    "There is no one-size-fits-all solution, and the choice of the number of clusters depends on the specific problem and the data.\n",
    "\n",
    "Some common methods used for determining the optimal number of clusters are:\n",
    "\n",
    "**Elbow method\n",
    "**Silhouette method\n",
    "**Gap statistic\n",
    "**Dendrogram\n",
    "\n",
    "The elbow method involves plotting the within-cluster sum of squares (WSS) against the number of clusters and selecting the number of \n",
    "clusters where the rate of decrease in WSS slows down.\n",
    "\n",
    "The silhouette method involves calculating the silhouette coefficient for each data point and selecting the number of clusters that \n",
    "maximizes the average silhouette coefficient.\n",
    "\n",
    "The gap statistic involves comparing the within-cluster dispersion for different values of k with their expected values under null \n",
    "reference distributions.\n",
    "\n",
    "The dendrogram is a visual representation of the hierarchical clustering process that can be used to determine the optimal number of clusters."
   ]
  },
  {
   "cell_type": "code",
   "execution_count": null,
   "id": "1228beb8-1884-4dcc-94f1-4d638a3fe643",
   "metadata": {},
   "outputs": [],
   "source": []
  },
  {
   "cell_type": "code",
   "execution_count": null,
   "id": "a9cb4192-a869-4620-96bb-e4b13062aab6",
   "metadata": {},
   "outputs": [],
   "source": [
    "Q5. What are dendrograms in hierarchical clustering, and how are they useful in analyzing the results?"
   ]
  },
  {
   "cell_type": "markdown",
   "id": "bc062f5c-b379-4a4e-aa11-e9d139f90f9e",
   "metadata": {},
   "source": [
    "ANS -"
   ]
  },
  {
   "cell_type": "code",
   "execution_count": null,
   "id": "e65f3ad3-852c-420d-a18c-9527c5fe74fa",
   "metadata": {},
   "outputs": [],
   "source": [
    "A dendrogram is a tree-like diagram that shows the hierarchical relationship between the clusters in hierarchical clustering.\n",
    "It is a useful tool for visualizing the results of hierarchical clustering.\n",
    "\n",
    "In a dendrogram, each leaf node represents an individual data point, and each internal node represents a cluster. \n",
    "The height of each internal node represents the distance between the two clusters that were merged to form it.\n",
    "\n",
    "Dendrograms are useful in analyzing the results of hierarchical clustering because they provide a visual representation of the \n",
    "relationships between the clusters.\n",
    "\n",
    "They can be used to identify the optimal number of clusters by looking for the point on the dendrogram where the distance between\n",
    "clusters starts to increase rapidly."
   ]
  },
  {
   "cell_type": "code",
   "execution_count": null,
   "id": "418529c9-dfc3-49a4-8290-6f6831a9852a",
   "metadata": {},
   "outputs": [],
   "source": []
  },
  {
   "cell_type": "code",
   "execution_count": null,
   "id": "f5659fd2-9869-4ed8-8c61-60ad52a50850",
   "metadata": {},
   "outputs": [],
   "source": [
    "Q6. Can hierarchical clustering be used for both numerical and categorical data? If yes, how are the\n",
    "distance metrics different for each type of data?"
   ]
  },
  {
   "cell_type": "markdown",
   "id": "359202ad-d76e-4874-ae73-dec591273833",
   "metadata": {},
   "source": [
    "ANS -"
   ]
  },
  {
   "cell_type": "code",
   "execution_count": null,
   "id": "069b9837-532c-4226-8d28-2364165794e9",
   "metadata": {},
   "outputs": [],
   "source": [
    "Yes, hierarchical clustering can be used for both numerical and categorical data.\n",
    "However, the choice of distance metric may depend on the type of data being clustered.\n",
    "For numeric data, Euclidean distance is commonly used, while for categorical data, Manhattan distance or other distance metrics may be used."
   ]
  },
  {
   "cell_type": "code",
   "execution_count": null,
   "id": "b0797513-9ffe-42f8-a921-f8f137e6d17c",
   "metadata": {},
   "outputs": [],
   "source": []
  },
  {
   "cell_type": "code",
   "execution_count": null,
   "id": "b8b1fcce-c2ce-44ad-8544-18252f04c65d",
   "metadata": {},
   "outputs": [],
   "source": [
    "Q7. How can you use hierarchical clustering to identify outliers or anomalies in your data?"
   ]
  },
  {
   "cell_type": "markdown",
   "id": "3908da43-10e0-4e5c-b0c9-7be27817cd47",
   "metadata": {},
   "source": [
    "ANS -"
   ]
  },
  {
   "cell_type": "code",
   "execution_count": null,
   "id": "d7e6f7b8-3c04-47b4-a058-a2f2b1cee971",
   "metadata": {},
   "outputs": [],
   "source": [
    "Hierarchical clustering can be used to identify outliers or anomalies in your data. \n",
    "Clustering-based outlier detection methods assume that the normal data objects belong to large and dense clusters,\n",
    "whereas outliers belong to small or sparse clusters, or do not belong to any clusters.\n",
    "Hierarchical methods create hierarchical decomposition of the specified data record of the data object. \n",
    "They can be based on distance or density and continuity. If so, this is an outlier."
   ]
  }
 ],
 "metadata": {
  "kernelspec": {
   "display_name": "Python 3 (ipykernel)",
   "language": "python",
   "name": "python3"
  },
  "language_info": {
   "codemirror_mode": {
    "name": "ipython",
    "version": 3
   },
   "file_extension": ".py",
   "mimetype": "text/x-python",
   "name": "python",
   "nbconvert_exporter": "python",
   "pygments_lexer": "ipython3",
   "version": "3.10.8"
  }
 },
 "nbformat": 4,
 "nbformat_minor": 5
}
